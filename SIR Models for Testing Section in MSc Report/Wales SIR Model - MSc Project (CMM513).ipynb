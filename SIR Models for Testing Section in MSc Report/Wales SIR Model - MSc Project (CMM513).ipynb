{
 "cells": [
  {
   "cell_type": "code",
   "execution_count": 1,
   "metadata": {
    "scrolled": true
   },
   "outputs": [
    {
     "data": {
      "application/vnd.jupyter.widget-view+json": {
       "model_id": "5663ccaf117643d3bd1ee0360fb46e53",
       "version_major": 2,
       "version_minor": 0
      },
      "text/plain": [
       "interactive(children=(FloatSlider(value=0.55, description='beta', max=1.0, min=0.1, step=0.01), FloatSlider(va…"
      ]
     },
     "metadata": {},
     "output_type": "display_data"
    }
   ],
   "source": [
    "# Adapated from https://scipython.com/book/chapter-8-scipy/additional-examples/the-sir-epidemic-model/ - Courtesy of SciPy\n",
    "# Slider from -> https://matplotlib.org/3.1.1/gallery/widgets/slider_demo.html - Courtesty of Matplotlib\n",
    "# UK COVID Data -> https://ourworldindata.org/coronavirus/country/united-kingdom?country=~GBR (OWID)\n",
    "\n",
    "import numpy as np\n",
    "import pandas as pd\n",
    "from scipy.integrate import odeint\n",
    "import matplotlib.pyplot as plt, mpld3\n",
    "from ipywidgets import interactive\n",
    "\n",
    "cases = pd.read_csv('data_2020-Aug-22.csv')\n",
    "cases = cases[cases['areaName']=='Wales']\n",
    "cases = cases[cases['date']=='22/08/2020']\n",
    "\n",
    "N = 10e6\n",
    "I0, R0 = cases['cumCasesByPublishDate'], 0\n",
    "S0 = N - I0 - R0\n",
    "beta, gamma = 0, 0\n",
    "t = np.linspace(0, 60, 60)\n",
    "\n",
    "# The SIR model differential equations.\n",
    "def sir(y, t, N, beta, gamma):\n",
    "    S, I, R = y\n",
    "    dSdt = -beta * S * I / N\n",
    "    dIdt = beta * S * I / N - gamma * I\n",
    "    dRdt = gamma * I\n",
    "    return dSdt, dIdt, dRdt\n",
    "\n",
    "# Initial conditions vector\n",
    "y0 = S0, I0, R0\n",
    "\n",
    "# Plot the data on three separate curves for S(t), I(t) and R(t)\n",
    "def sir_interactive_func(beta, gamma):\n",
    "    ret = odeint(sir, y0, t, args=(N, beta, gamma))\n",
    "    S, I, R = ret.T\n",
    "    \n",
    "    fig = plt.figure()\n",
    "    ax = fig.add_subplot(111, axisbelow=True)\n",
    "    ax.plot(t, S/1000, 'yellow', lw=1.5, label='Susceptible')\n",
    "    ax.plot(t, I/1000, 'red', lw=1.5, label='Infected')\n",
    "    ax.plot(t, R/1000, 'blue', lw=1.5, label='Recovered')\n",
    "    ax.set_xlabel('Time (days)')\n",
    "    ax.set_ylabel('Population (1000s)')\n",
    "    ax.grid(b=True, which='major', c='#bbbbbb', lw=1, ls='-')\n",
    "    legend = ax.legend()\n",
    "    legend.get_frame().set_alpha(0.5)\n",
    "    #mpld3.save_html(fig, 'wales.html')\n",
    "\n",
    "interactive_plot = interactive(sir_interactive_func, beta=(0.10,1,0.01), gamma=(0.10,1,0.01))\n",
    "interactive_plot"
   ]
  }
 ],
 "metadata": {
  "kernelspec": {
   "display_name": "Python 3",
   "language": "python",
   "name": "python3"
  },
  "language_info": {
   "codemirror_mode": {
    "name": "ipython",
    "version": 3
   },
   "file_extension": ".py",
   "mimetype": "text/x-python",
   "name": "python",
   "nbconvert_exporter": "python",
   "pygments_lexer": "ipython3",
   "version": "3.8.3"
  }
 },
 "nbformat": 4,
 "nbformat_minor": 4
}
